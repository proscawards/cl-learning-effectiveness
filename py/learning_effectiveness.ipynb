{
 "cells": [
  {
   "cell_type": "markdown",
   "id": "4b2a8aed",
   "metadata": {},
   "source": [
    "# ChemistLab: Finding the Learning Effectiveness of three metrics\n",
    "Ask For Help (AFH), Success Attempts and Tips Found"
   ]
  },
  {
   "cell_type": "code",
   "execution_count": 1,
   "id": "34c4c4be",
   "metadata": {},
   "outputs": [],
   "source": [
    "import pandas as pd\n",
    "from pandas import DataFrame\n",
    "import numpy as np\n",
    "import matplotlib.pyplot as plt\n",
    "import seaborn as sns\n",
    "import missingno as msno"
   ]
  },
  {
   "cell_type": "code",
   "execution_count": 2,
   "id": "ba0427d5",
   "metadata": {},
   "outputs": [],
   "source": [
    "# Import csv\n",
    "df = pd.read_csv(r\"../csv/export.csv\")"
   ]
  },
  {
   "cell_type": "code",
   "execution_count": 3,
   "id": "480308ca",
   "metadata": {},
   "outputs": [
    {
     "data": {
      "text/html": [
       "<div>\n",
       "<style scoped>\n",
       "    .dataframe tbody tr th:only-of-type {\n",
       "        vertical-align: middle;\n",
       "    }\n",
       "\n",
       "    .dataframe tbody tr th {\n",
       "        vertical-align: top;\n",
       "    }\n",
       "\n",
       "    .dataframe thead th {\n",
       "        text-align: right;\n",
       "    }\n",
       "</style>\n",
       "<table border=\"1\" class=\"dataframe\">\n",
       "  <thead>\n",
       "    <tr style=\"text-align: right;\">\n",
       "      <th></th>\n",
       "      <th>userName</th>\n",
       "      <th>T1M1SuccessAttempts</th>\n",
       "      <th>T1M2SuccessAttempts</th>\n",
       "      <th>T1M3SuccessAttempts</th>\n",
       "      <th>A1M1SuccessAttempts</th>\n",
       "      <th>A1M2SuccessAttempts</th>\n",
       "      <th>A1M3SuccessAttempts</th>\n",
       "      <th>T1M1AFHCount</th>\n",
       "      <th>T1M2AFHCount</th>\n",
       "      <th>T1M3AFHCount</th>\n",
       "      <th>A1M1AFHCount</th>\n",
       "      <th>A1M2AFHCount</th>\n",
       "      <th>A1M3AFHCount</th>\n",
       "      <th>T1M1TipsFound</th>\n",
       "      <th>T1M2TipsFound</th>\n",
       "      <th>T1M3TipsFound</th>\n",
       "      <th>A1M1TipsFound</th>\n",
       "      <th>A1M2TipsFound</th>\n",
       "      <th>A1M3TipsFound</th>\n",
       "    </tr>\n",
       "  </thead>\n",
       "  <tbody>\n",
       "    <tr>\n",
       "      <th>0</th>\n",
       "      <td>NasiLmk</td>\n",
       "      <td>1</td>\n",
       "      <td>1</td>\n",
       "      <td>0</td>\n",
       "      <td>2</td>\n",
       "      <td>1</td>\n",
       "      <td>1</td>\n",
       "      <td>1</td>\n",
       "      <td>1</td>\n",
       "      <td>1</td>\n",
       "      <td>0</td>\n",
       "      <td>0</td>\n",
       "      <td>0</td>\n",
       "      <td>1</td>\n",
       "      <td>4</td>\n",
       "      <td>2</td>\n",
       "      <td>0</td>\n",
       "      <td>0</td>\n",
       "      <td>1</td>\n",
       "    </tr>\n",
       "    <tr>\n",
       "      <th>1</th>\n",
       "      <td>Ju5t_V</td>\n",
       "      <td>0</td>\n",
       "      <td>0</td>\n",
       "      <td>0</td>\n",
       "      <td>0</td>\n",
       "      <td>0</td>\n",
       "      <td>0</td>\n",
       "      <td>0</td>\n",
       "      <td>0</td>\n",
       "      <td>0</td>\n",
       "      <td>0</td>\n",
       "      <td>0</td>\n",
       "      <td>0</td>\n",
       "      <td>0</td>\n",
       "      <td>0</td>\n",
       "      <td>0</td>\n",
       "      <td>0</td>\n",
       "      <td>0</td>\n",
       "      <td>0</td>\n",
       "    </tr>\n",
       "    <tr>\n",
       "      <th>2</th>\n",
       "      <td>Nickkay</td>\n",
       "      <td>2</td>\n",
       "      <td>2</td>\n",
       "      <td>0</td>\n",
       "      <td>1</td>\n",
       "      <td>1</td>\n",
       "      <td>1</td>\n",
       "      <td>0</td>\n",
       "      <td>1</td>\n",
       "      <td>1</td>\n",
       "      <td>2</td>\n",
       "      <td>2</td>\n",
       "      <td>2</td>\n",
       "      <td>2</td>\n",
       "      <td>5</td>\n",
       "      <td>4</td>\n",
       "      <td>2</td>\n",
       "      <td>3</td>\n",
       "      <td>5</td>\n",
       "    </tr>\n",
       "    <tr>\n",
       "      <th>3</th>\n",
       "      <td>azifh</td>\n",
       "      <td>1</td>\n",
       "      <td>1</td>\n",
       "      <td>0</td>\n",
       "      <td>1</td>\n",
       "      <td>1</td>\n",
       "      <td>1</td>\n",
       "      <td>1</td>\n",
       "      <td>1</td>\n",
       "      <td>1</td>\n",
       "      <td>1</td>\n",
       "      <td>1</td>\n",
       "      <td>1</td>\n",
       "      <td>0</td>\n",
       "      <td>1</td>\n",
       "      <td>4</td>\n",
       "      <td>0</td>\n",
       "      <td>1</td>\n",
       "      <td>4</td>\n",
       "    </tr>\n",
       "    <tr>\n",
       "      <th>4</th>\n",
       "      <td>zhongdanmeishan</td>\n",
       "      <td>2</td>\n",
       "      <td>2</td>\n",
       "      <td>0</td>\n",
       "      <td>1</td>\n",
       "      <td>1</td>\n",
       "      <td>1</td>\n",
       "      <td>0</td>\n",
       "      <td>1</td>\n",
       "      <td>0</td>\n",
       "      <td>0</td>\n",
       "      <td>0</td>\n",
       "      <td>0</td>\n",
       "      <td>3</td>\n",
       "      <td>7</td>\n",
       "      <td>4</td>\n",
       "      <td>3</td>\n",
       "      <td>4</td>\n",
       "      <td>5</td>\n",
       "    </tr>\n",
       "  </tbody>\n",
       "</table>\n",
       "</div>"
      ],
      "text/plain": [
       "          userName  T1M1SuccessAttempts  T1M2SuccessAttempts  \\\n",
       "0          NasiLmk                    1                    1   \n",
       "1           Ju5t_V                    0                    0   \n",
       "2          Nickkay                    2                    2   \n",
       "3            azifh                    1                    1   \n",
       "4  zhongdanmeishan                    2                    2   \n",
       "\n",
       "   T1M3SuccessAttempts  A1M1SuccessAttempts  A1M2SuccessAttempts  \\\n",
       "0                    0                    2                    1   \n",
       "1                    0                    0                    0   \n",
       "2                    0                    1                    1   \n",
       "3                    0                    1                    1   \n",
       "4                    0                    1                    1   \n",
       "\n",
       "   A1M3SuccessAttempts  T1M1AFHCount  T1M2AFHCount  T1M3AFHCount  \\\n",
       "0                    1             1             1             1   \n",
       "1                    0             0             0             0   \n",
       "2                    1             0             1             1   \n",
       "3                    1             1             1             1   \n",
       "4                    1             0             1             0   \n",
       "\n",
       "   A1M1AFHCount  A1M2AFHCount  A1M3AFHCount  T1M1TipsFound  T1M2TipsFound  \\\n",
       "0             0             0             0              1              4   \n",
       "1             0             0             0              0              0   \n",
       "2             2             2             2              2              5   \n",
       "3             1             1             1              0              1   \n",
       "4             0             0             0              3              7   \n",
       "\n",
       "   T1M3TipsFound  A1M1TipsFound  A1M2TipsFound  A1M3TipsFound  \n",
       "0              2              0              0              1  \n",
       "1              0              0              0              0  \n",
       "2              4              2              3              5  \n",
       "3              4              0              1              4  \n",
       "4              4              3              4              5  "
      ]
     },
     "execution_count": 3,
     "metadata": {},
     "output_type": "execute_result"
    }
   ],
   "source": [
    "df.head()"
   ]
  },
  {
   "cell_type": "markdown",
   "id": "d13c066a",
   "metadata": {},
   "source": [
    "## Create dataframe of total metrics"
   ]
  },
  {
   "cell_type": "code",
   "execution_count": 4,
   "id": "36507d83",
   "metadata": {},
   "outputs": [
    {
     "data": {
      "text/html": [
       "<div>\n",
       "<style scoped>\n",
       "    .dataframe tbody tr th:only-of-type {\n",
       "        vertical-align: middle;\n",
       "    }\n",
       "\n",
       "    .dataframe tbody tr th {\n",
       "        vertical-align: top;\n",
       "    }\n",
       "\n",
       "    .dataframe thead th {\n",
       "        text-align: right;\n",
       "    }\n",
       "</style>\n",
       "<table border=\"1\" class=\"dataframe\">\n",
       "  <thead>\n",
       "    <tr style=\"text-align: right;\">\n",
       "      <th></th>\n",
       "      <th>Success Attempts</th>\n",
       "      <th>Ask For Help (AFH)</th>\n",
       "      <th>Tips Found</th>\n",
       "    </tr>\n",
       "  </thead>\n",
       "  <tbody>\n",
       "    <tr>\n",
       "      <th>0</th>\n",
       "      <td>6</td>\n",
       "      <td>3</td>\n",
       "      <td>8</td>\n",
       "    </tr>\n",
       "    <tr>\n",
       "      <th>1</th>\n",
       "      <td>0</td>\n",
       "      <td>0</td>\n",
       "      <td>0</td>\n",
       "    </tr>\n",
       "    <tr>\n",
       "      <th>2</th>\n",
       "      <td>7</td>\n",
       "      <td>8</td>\n",
       "      <td>21</td>\n",
       "    </tr>\n",
       "    <tr>\n",
       "      <th>3</th>\n",
       "      <td>5</td>\n",
       "      <td>6</td>\n",
       "      <td>10</td>\n",
       "    </tr>\n",
       "    <tr>\n",
       "      <th>4</th>\n",
       "      <td>7</td>\n",
       "      <td>1</td>\n",
       "      <td>26</td>\n",
       "    </tr>\n",
       "    <tr>\n",
       "      <th>5</th>\n",
       "      <td>7</td>\n",
       "      <td>1</td>\n",
       "      <td>21</td>\n",
       "    </tr>\n",
       "    <tr>\n",
       "      <th>6</th>\n",
       "      <td>8</td>\n",
       "      <td>6</td>\n",
       "      <td>9</td>\n",
       "    </tr>\n",
       "    <tr>\n",
       "      <th>7</th>\n",
       "      <td>0</td>\n",
       "      <td>0</td>\n",
       "      <td>0</td>\n",
       "    </tr>\n",
       "    <tr>\n",
       "      <th>8</th>\n",
       "      <td>9</td>\n",
       "      <td>5</td>\n",
       "      <td>19</td>\n",
       "    </tr>\n",
       "    <tr>\n",
       "      <th>9</th>\n",
       "      <td>1</td>\n",
       "      <td>2</td>\n",
       "      <td>3</td>\n",
       "    </tr>\n",
       "    <tr>\n",
       "      <th>10</th>\n",
       "      <td>1</td>\n",
       "      <td>1</td>\n",
       "      <td>1</td>\n",
       "    </tr>\n",
       "    <tr>\n",
       "      <th>11</th>\n",
       "      <td>6</td>\n",
       "      <td>10</td>\n",
       "      <td>8</td>\n",
       "    </tr>\n",
       "  </tbody>\n",
       "</table>\n",
       "</div>"
      ],
      "text/plain": [
       "    Success Attempts  Ask For Help (AFH)  Tips Found\n",
       "0                  6                   3           8\n",
       "1                  0                   0           0\n",
       "2                  7                   8          21\n",
       "3                  5                   6          10\n",
       "4                  7                   1          26\n",
       "5                  7                   1          21\n",
       "6                  8                   6           9\n",
       "7                  0                   0           0\n",
       "8                  9                   5          19\n",
       "9                  1                   2           3\n",
       "10                 1                   1           1\n",
       "11                 6                  10           8"
      ]
     },
     "execution_count": 4,
     "metadata": {},
     "output_type": "execute_result"
    }
   ],
   "source": [
    "df1 = df.copy()\n",
    "df1['Success Attempts'] = df1['T1M1SuccessAttempts'] + df1['T1M2SuccessAttempts'] + df1['T1M3SuccessAttempts'] + df1['A1M1SuccessAttempts'] + df1['A1M2SuccessAttempts'] + df1['A1M3SuccessAttempts']\n",
    "df1['Ask For Help (AFH)'] = df1['T1M1AFHCount'] + df1['T1M2AFHCount'] + df1['T1M3AFHCount'] + df1['A1M1AFHCount'] + df1['A1M2AFHCount'] + df1['A1M3AFHCount']\n",
    "df1['Tips Found'] = df1['T1M1TipsFound'] + df1['T1M2TipsFound'] + df1['T1M3TipsFound'] + df1['A1M1TipsFound'] + df1['A1M2TipsFound'] + df1['A1M3TipsFound']\n",
    "df1.drop(df1.iloc[:, 0:19], inplace = True, axis = 1)\n",
    "df1"
   ]
  },
  {
   "cell_type": "markdown",
   "id": "cb8afb7c",
   "metadata": {},
   "source": [
    "## Validating Missing Values"
   ]
  },
  {
   "cell_type": "code",
   "execution_count": 5,
   "id": "79634bed",
   "metadata": {},
   "outputs": [
    {
     "data": {
      "text/plain": [
       "Success Attempts      0\n",
       "Ask For Help (AFH)    0\n",
       "Tips Found            0\n",
       "dtype: int64"
      ]
     },
     "execution_count": 5,
     "metadata": {},
     "output_type": "execute_result"
    }
   ],
   "source": [
    "df1.isna().sum()"
   ]
  },
  {
   "cell_type": "code",
   "execution_count": 6,
   "id": "fb8c58d6",
   "metadata": {},
   "outputs": [
    {
     "data": {
      "text/plain": [
       "<AxesSubplot:>"
      ]
     },
     "execution_count": 6,
     "metadata": {},
     "output_type": "execute_result"
    },
    {
     "data": {
      "image/png": "[encoded data removed]",
      "text/plain": [
       "<Figure size 1728x720 with 3 Axes>"
      ]
     },
     "metadata": {
      "needs_background": "light"
     },
     "output_type": "display_data"
    }
   ],
   "source": [
    "%matplotlib inline\n",
    "msno.bar(df1)"
   ]
  },
  {
   "cell_type": "code",
   "execution_count": 7,
   "id": "e48c70a4",
   "metadata": {},
   "outputs": [
    {
     "data": {
      "text/plain": [
       "<AxesSubplot:xlabel='variable', ylabel='value'>"
      ]
     },
     "execution_count": 7,
     "metadata": {},
     "output_type": "execute_result"
    },
    {
     "data": {
      "image/png": "[encoded data removed]",
      "text/plain": [
       "<Figure size 432x288 with 1 Axes>"
      ]
     },
     "metadata": {
      "needs_background": "light"
     },
     "output_type": "display_data"
    }
   ],
   "source": [
    "sns.boxplot(x=\"variable\", y=\"value\", data=pd.melt(df1))"
   ]
  },
  {
   "cell_type": "markdown",
   "id": "5f4c8dbd",
   "metadata": {},
   "source": [
    "## Detect and Remove Outliers Using Interquartile Range (IQR)"
   ]
  },
  {
   "cell_type": "code",
   "execution_count": 8,
   "id": "04bbcf55",
   "metadata": {},
   "outputs": [],
   "source": [
    "# Only Success Attempts and Ask For Help have outliers\n",
    "df2 = df1.copy()\n",
    "# Success Attempts\n",
    "saLower = df2['Success Attempts'].quantile(0.25)\n",
    "saUpper = df2['Success Attempts'].quantile(0.75)\n",
    "iqr_sa = saUpper - saLower\n",
    "saUpperLimit = saUpper + 1.5 * iqr_sa\n",
    "saLowerLimit = saLower - 1.5 * iqr_sa\n",
    "df2['Success Attempts'] = np.where(\n",
    "    df2['Success Attempts'] > saUpperLimit,\n",
    "    saUpperLimit,\n",
    "    np.where(\n",
    "        df2['Success Attempts'] < saLowerLimit,\n",
    "        saLowerLimit,\n",
    "        df2['Success Attempts']\n",
    "    )\n",
    ")\n",
    "# Ask For Help\n",
    "afhLower = df2['Ask For Help (AFH)'].quantile(0.25)\n",
    "afhUpper = df2['Ask For Help (AFH)'].quantile(0.75)\n",
    "iqr_afh = afhUpper - afhLower\n",
    "afhUpperLimit = afhUpper + 1.5 * iqr_afh\n",
    "afhLowerLimit = afhLower - 1.5 * iqr_afh\n",
    "df2['Ask For Help (AFH)'] = np.where(\n",
    "    df2['Ask For Help (AFH)'] > afhUpperLimit,\n",
    "    afhUpperLimit,\n",
    "    np.where(\n",
    "        df2['Ask For Help (AFH)'] < afhLowerLimit,\n",
    "        afhLowerLimit,\n",
    "        df2['Ask For Help (AFH)']\n",
    "    )\n",
    ")\n",
    "# Ask For Help\n",
    "tfLower = df2['Tips Found'].quantile(0.25)\n",
    "tfUpper = df2['Tips Found'].quantile(0.75)\n",
    "iqr_tf = tfUpper - tfLower\n",
    "tfUpperLimit = tfUpper + 1.5 * iqr_tf\n",
    "tfLowerLimit = tfLower - 1.5 * iqr_tf\n",
    "df2['Tips Found'] = np.where(\n",
    "    df2['Tips Found'] > tfUpperLimit,\n",
    "    tfUpperLimit,\n",
    "    np.where(\n",
    "        df2['Tips Found'] < tfLowerLimit,\n",
    "        tfLowerLimit,\n",
    "        df2['Tips Found']\n",
    "    )\n",
    ")"
   ]
  },
  {
   "cell_type": "code",
   "execution_count": 9,
   "id": "c9e2d204",
   "metadata": {},
   "outputs": [
    {
     "data": {
      "text/plain": [
       "<AxesSubplot:xlabel='variable', ylabel='value'>"
      ]
     },
     "execution_count": 9,
     "metadata": {},
     "output_type": "execute_result"
    },
    {
     "data": {
      "image/png": "[encoded data removed]",
      "text/plain": [
       "<Figure size 432x288 with 1 Axes>"
      ]
     },
     "metadata": {
      "needs_background": "light"
     },
     "output_type": "display_data"
    }
   ],
   "source": [
    "sns.boxplot(x=\"variable\", y=\"value\", data=pd.melt(df2))"
   ]
  },
  {
   "cell_type": "code",
   "execution_count": 33,
   "id": "5483e7c4",
   "metadata": {},
   "outputs": [
    {
     "data": {
      "image/png": "[encoded data removed]",
      "text/plain": [
       "<Figure size 432x288 with 2 Axes>"
      ]
     },
     "metadata": {
      "needs_background": "light"
     },
     "output_type": "display_data"
    }
   ],
   "source": [
    "heatmap = sns.heatmap(df2.corr()[['Success Attempts']].sort_values(by='Success Attempts', ascending=False), vmin=-1, vmax=1, annot=True, fmt=\".2f\", cmap=\"gray\", annot_kws={\"fontsize\": 20})\n",
    "heatmap.tick_params(labelsize=15,rotation = 0)\n",
    "# heatmap.axes.text(x=0.5, y=1.1, s='Correlation Heatmap of Learning Effectiveness', fontsize=12, weight='bold', ha='center', va='bottom', transform=heatmap.axes.transAxes)\n",
    "# heatmap.axes.text(x=0.5, y=1.05, s='Success Attempts, Tips Found & Ask For Help (AFH)', fontsize=9.5, alpha=0.75, ha='center', va='bottom', transform=heatmap.axes.transAxes)\n",
    "plt.tight_layout()\n",
    "plt.savefig('heatmap', dpi = 100)"
   ]
  },
  {
   "cell_type": "code",
   "execution_count": null,
   "id": "3e5f62d9",
   "metadata": {},
   "outputs": [],
   "source": []
  }
 ],
 "metadata": {
  "kernelspec": {
   "display_name": "Python 3 (ipykernel)",
   "language": "python",
   "name": "python3"
  },
  "language_info": {
   "codemirror_mode": {
    "name": "ipython",
    "version": 3
   },
   "file_extension": ".py",
   "mimetype": "text/x-python",
   "name": "python",
   "nbconvert_exporter": "python",
   "pygments_lexer": "ipython3",
   "version": "3.9.7"
  }
 },
 "nbformat": 4,
 "nbformat_minor": 5
}
